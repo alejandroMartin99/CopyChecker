{
 "cells": [
  {
   "cell_type": "markdown",
   "metadata": {},
   "source": [
    "# CopyChecker\n",
    "\n",
    "CopyChecker es una aplicación de escritorio desarrollada en Python utilizando `customtkinter`, que permite comparar archivos entre dos carpetas. Extrae todos los archivos, incluyendo los de subcarpetas, de una carpeta de origen y los compara con los archivos en una carpeta de destino. La aplicación clasifica los archivos en dos grupos: aquellos que ya existen en el destino y aquellos que no. Además, permite copiar los archivos que no existen en destino, replicando la estructura de directorios.\n",
    "\n",
    "## Tabla de Contenidos\n",
    "\n",
    "- [Características](#características)\n",
    "- [Instalación](#instalación)\n",
    "- [Cómo usar](#cómo-usar)\n",
    "- [Capturas de pantalla](#capturas-de-pantalla)\n",
    "- [Dependencias](#dependencias)\n",
    "\n",
    "\n",
    "## Características\n",
    "\n",
    "- Comparación recursiva de archivos entre dos carpetas.\n",
    "- Clasificación de archivos en:\n",
    "  - **Ficheros que coinciden**: aquellos que ya están presentes en la carpeta de destino.\n",
    "  - **Ficheros que no coinciden**: aquellos que no están en la carpeta de destino.\n",
    "- Posibilidad de copiar archivos que no existen en la carpeta de destino, manteniendo la misma estructura de directorios.\n",
    "- Interfaz amigable y moderna con `customtkinter`.\n",
    "- Modo oscuro por defecto para una experiencia visual más agradable.\n",
    "\n",
    "## Instalación\n",
    "\n",
    "### Requisitos previos\n",
    "\n",
    "Asegúrate de tener Python 3.6 o superior instalado en tu sistema. Puedes verificar tu versión de Python ejecutando:\n",
    "\n",
    "```bash\n",
    "python --version\n",
    "```\n",
    "\n",
    "Paso 1: Clona el repositorio\n",
    "```bash\n",
    "git clone https://github.com/tu-usuario/CopyChecker.git\n",
    "```"
   ]
  },
  {
   "cell_type": "code",
   "execution_count": null,
   "metadata": {
    "vscode": {
     "languageId": "plaintext"
    }
   },
   "outputs": [],
   "source": []
  },
  {
   "cell_type": "markdown",
   "metadata": {},
   "source": [
    "🚀 ¡Optimiza la gestión de tus archivos con este Comparador de Archivos! 🚀\n",
    "\n",
    "🔍 ¿Te has encontrado alguna vez en la situación de tener que comparar y sincronizar grandes cantidades de archivos entre dos carpetas? ¡Tengo la solución perfecta!\n",
    "\n",
    "Este comparador Comparador de Archivos: una herramienta potente y fácil de usar que te ayudará a:\n",
    "\n",
    "✅ Comparar archivos entre dos carpetas: Identifica rápidamente qué archivos coinciden y cuáles no están presentes en el destino.\n",
    "\n",
    "✅ Mantener tu estructura de directorios: Copia automáticamente los archivos que faltan, conservando la misma jerarquía de carpetas.\n",
    "\n",
    "✅ Ahorra tiempo: Automatiza el proceso de comparación y copia, evitando tareas manuales tediosas y errores.\n",
    "\n",
    "💡 ¿Cuándo podría ser útil?\n",
    "\n",
    "En la gestión de backups: Asegúrate de que tus copias de seguridad están completas y actualizadas.\n",
    "En el desarrollo de software: Sincroniza archivos entre entornos de desarrollo y producción.\n",
    "En la administración de datos: Verifica la integridad y sincronización de archivos en proyectos grandes.\n",
    "💼 Ideal para: Equipos de TI, desarrolladores, administradores de sistemas y cualquier profesional que maneje grandes volúmenes de archivos.\n",
    "\n",
    "🌐 Descarga y prueba hoy: Con nuestra interfaz gráfica intuitiva, es más fácil que nunca comenzar. Si estás listo para simplificar tu trabajo con archivos, contáctanos para más información y acceso al script.\n",
    "\n",
    "¡No pierdas esta oportunidad de optimizar tu flujo de trabajo y asegurar la precisión en la gestión de tus archivos! 📂✨\n",
    "\n",
    "#ComparadorDeArchivos #GestiónDeArchivos #Automatización #Backup #DesarrolloDeSoftware #Productividad"
   ]
  },
  {
   "cell_type": "markdown",
   "metadata": {},
   "source": []
  }
 ],
 "metadata": {
  "language_info": {
   "name": "python"
  }
 },
 "nbformat": 4,
 "nbformat_minor": 2
}
